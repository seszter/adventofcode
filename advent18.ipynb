{
 "cells": [
  {
   "cell_type": "code",
   "execution_count": 9,
   "metadata": {
    "collapsed": false
   },
   "outputs": [
    {
     "data": {
      "text/plain": [
       "100"
      ]
     },
     "execution_count": 9,
     "metadata": {},
     "output_type": "execute_result"
    }
   ],
   "source": [
    "with open('advent18.txt') as f:\n",
    "    content = f.readlines()\n",
    "content = [x.split('\\n') for x in content]\n",
    "content = [x[0] for x in content]\n",
    "len(content[0])"
   ]
  },
  {
   "cell_type": "code",
   "execution_count": 6,
   "metadata": {
    "collapsed": true
   },
   "outputs": [],
   "source": [
    "import numpy as np"
   ]
  },
  {
   "cell_type": "code",
   "execution_count": 209,
   "metadata": {
    "collapsed": false
   },
   "outputs": [
    {
     "data": {
      "text/plain": [
       "array([[ 0.,  0.,  0., ...,  0.,  0.,  0.],\n",
       "       [ 0.,  1.,  0., ...,  0.,  0.,  0.],\n",
       "       [ 0.,  1.,  1., ...,  0.,  1.,  0.],\n",
       "       ..., \n",
       "       [ 0.,  1.,  1., ...,  1.,  0.,  0.],\n",
       "       [ 0.,  0.,  1., ...,  1.,  0.,  0.],\n",
       "       [ 0.,  0.,  0., ...,  0.,  0.,  0.]])"
      ]
     },
     "execution_count": 209,
     "metadata": {},
     "output_type": "execute_result"
    }
   ],
   "source": [
    "grid = []\n",
    "for con in content:\n",
    "    row = []\n",
    "    for c in con:\n",
    "        if c == '#':\n",
    "            row.append(1)\n",
    "        else:\n",
    "            row.append(0)\n",
    "    grid.append(row)\n",
    "grid = np.array(grid)\n",
    "grid = np.vstack((np.zeros(100), grid))\n",
    "grid = np.vstack((grid, np.zeros(100)))\n",
    "zeros = np.zeros(102)\n",
    "zeros.shape = (102,1)\n",
    "grid = np.hstack((zeros, grid))\n",
    "grid = np.hstack((grid, zeros))\n",
    "grid"
   ]
  },
  {
   "cell_type": "code",
   "execution_count": 206,
   "metadata": {
    "collapsed": false
   },
   "outputs": [
    {
     "data": {
      "text/plain": [
       "814.0"
      ]
     },
     "execution_count": 206,
     "metadata": {},
     "output_type": "execute_result"
    }
   ],
   "source": [
    "newgrid = np.zeros((102,102))\n",
    "\n",
    "for k in range(100):\n",
    "    for i in range(1,101):\n",
    "        for j in range(1,101):\n",
    "            sumlights = 0\n",
    "            sumlights = grid[i-1,j-1] + grid[i-1,j] + grid[i-1,j+1] + grid[i,j-1] + grid[i,j+1] + grid[i+1,j-1] + grid[i+1,j] + grid[i+1,j+1]\n",
    "            if grid[i,j] == 0 and sumlights == 3:\n",
    "                newgrid[i,j] = 1\n",
    "                \n",
    "            elif grid[i,j] == 1 and not (sumlights == 2 or sumlights == 3):\n",
    "                newgrid[i,j] = 0\n",
    "                \n",
    "            else:\n",
    "                newgrid[i,j] = grid[i,j]\n",
    "            \n",
    "        \n",
    "    grid = newgrid\n",
    "    newgrid = np.zeros((102,102))\n",
    "np.sum(grid)        \n",
    "                 "
   ]
  },
  {
   "cell_type": "code",
   "execution_count": 210,
   "metadata": {
    "collapsed": false
   },
   "outputs": [
    {
     "data": {
      "text/plain": [
       "924.0"
      ]
     },
     "execution_count": 210,
     "metadata": {},
     "output_type": "execute_result"
    }
   ],
   "source": [
    "newgrid = np.zeros((102,102))\n",
    "grid[1,1] = 1\n",
    "grid[1,100] = 1\n",
    "grid[100,1] = 1\n",
    "grid[100,100] = 1\n",
    "    \n",
    "for k in range(100):\n",
    "   \n",
    "    for i in range(1,101):\n",
    "        for j in range(1,101):\n",
    "            sumlights = 0\n",
    "            sumlights = grid[i-1,j-1] + grid[i-1,j] + grid[i-1,j+1] + grid[i,j-1] + grid[i,j+1] + grid[i+1,j-1] + grid[i+1,j] + grid[i+1,j+1]\n",
    "            if grid[i,j] == 0 and sumlights == 3:\n",
    "                newgrid[i,j] = 1\n",
    "                \n",
    "            elif grid[i,j] == 1 and not (sumlights == 2 or sumlights == 3):\n",
    "                newgrid[i,j] = 0\n",
    "                \n",
    "            else:\n",
    "                newgrid[i,j] = grid[i,j]\n",
    "            \n",
    "        \n",
    "    grid = newgrid\n",
    "    newgrid = np.zeros((102,102))\n",
    "    grid[1,1] = 1\n",
    "    grid[1,100] = 1\n",
    "    grid[100,1] = 1\n",
    "    grid[100,100] = 1\n",
    "np.sum(grid)        \n",
    "                 "
   ]
  },
  {
   "cell_type": "code",
   "execution_count": null,
   "metadata": {
    "collapsed": true
   },
   "outputs": [],
   "source": []
  }
 ],
 "metadata": {
  "kernelspec": {
   "display_name": "Python 3",
   "language": "python",
   "name": "python3"
  },
  "language_info": {
   "codemirror_mode": {
    "name": "ipython",
    "version": 3
   },
   "file_extension": ".py",
   "mimetype": "text/x-python",
   "name": "python",
   "nbconvert_exporter": "python",
   "pygments_lexer": "ipython3",
   "version": "3.4.3"
  }
 },
 "nbformat": 4,
 "nbformat_minor": 0
}
