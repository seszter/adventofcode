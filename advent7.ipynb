{
 "cells": [
  {
   "cell_type": "code",
   "execution_count": 9,
   "metadata": {
    "collapsed": true
   },
   "outputs": [],
   "source": [
    "import re\n",
    "import numpy as np"
   ]
  },
  {
   "cell_type": "code",
   "execution_count": 12,
   "metadata": {
    "collapsed": true
   },
   "outputs": [],
   "source": [
    "with open('advent7.txt') as f:\n",
    "    content = f.readlines()\n",
    "content = [x.strip('\\n') for x in content]\n"
   ]
  },
  {
   "cell_type": "markdown",
   "metadata": {},
   "source": [
    "1st part"
   ]
  },
  {
   "cell_type": "code",
   "execution_count": 13,
   "metadata": {
    "collapsed": false
   },
   "outputs": [
    {
     "data": {
      "text/plain": [
       "3176"
      ]
     },
     "execution_count": 13,
     "metadata": {},
     "output_type": "execute_result"
    }
   ],
   "source": [
    "d = {}\n",
    "for i in range(1000):\n",
    "    for con in content:\n",
    "        c = con.split()\n",
    "        try:\n",
    "            if con.split()[1] == '->' and con[0].isdigit():\n",
    "                d[con.split()[-1]] = int(con.split()[0])\n",
    "                content.remove(con)\n",
    "            elif 'AND' in con:\n",
    "                if c[0].isdigit():\n",
    "                    d[c[-1]] = np.bitwise_and(int(c[0]),d[c[2]])\n",
    "                    content.remove(con)\n",
    "                else:\n",
    "                    d[c[-1]] = np.bitwise_and(d[c[0]],d[c[2]])\n",
    "                    content.remove(con)\n",
    "            elif 'OR' in con:\n",
    "                if c[0].isdigit():\n",
    "                    d[c[-1]] = np.bitwise_or(int(c[0]),d[c[2]])\n",
    "                    content.remove(con)\n",
    "                else:\n",
    "                    d[c[-1]] = np.bitwise_or(d[c[0]],d[c[2]])\n",
    "                    content.remove(con)\n",
    "            elif 'LSHIFT' in con:\n",
    "                if c[0].isdigit():\n",
    "                    d[c[-1]] = np.left_shift(int(c[0]), int(c[2]))\n",
    "                    content.remove(con)\n",
    "                else:\n",
    "                    d[c[-1]] = np.left_shift(d[c[0]], int(c[2]))\n",
    "                    content.remove(con)\n",
    "            elif 'RSHIFT' in con:\n",
    "                if c[0].isdigit():\n",
    "                    d[c[-1]] = np.right_shift(int(c[0]), int(c[2]))\n",
    "                    content.remove(con)\n",
    "                else:\n",
    "                    d[c[-1]] = np.right_shift(d[c[0]], int(c[2]))\n",
    "                    content.remove(con)\n",
    "            elif 'NOT' in con:\n",
    "                if c[1].isdigit():\n",
    "                    a = np.invert(np.array([int(c[0])], dtype='uint16')) \n",
    "                    d[c[-1]] = a[0]\n",
    "                    content.remove(con)\n",
    "                else:\n",
    "                    a = np.invert(np.array([d[c[1]]], dtype='uint16')) \n",
    "                    d[c[-1]] = a[0]\n",
    "                    content.remove(con)\n",
    "        except:\n",
    "            pass\n",
    "    \n",
    "\n",
    "d['lx']       "
   ]
  },
  {
   "cell_type": "markdown",
   "metadata": {},
   "source": [
    "2nd part"
   ]
  },
  {
   "cell_type": "code",
   "execution_count": 15,
   "metadata": {
    "collapsed": false
   },
   "outputs": [],
   "source": [
    "with open('advent7.txt') as f:\n",
    "    content = f.readlines()\n",
    "content = [x.strip('\\n') for x in content]\n",
    "content[3] = '3176 -> b'"
   ]
  },
  {
   "cell_type": "code",
   "execution_count": null,
   "metadata": {
    "collapsed": true
   },
   "outputs": [],
   "source": []
  }
 ],
 "metadata": {
  "kernelspec": {
   "display_name": "Python 3",
   "language": "python",
   "name": "python3"
  },
  "language_info": {
   "codemirror_mode": {
    "name": "ipython",
    "version": 3
   },
   "file_extension": ".py",
   "mimetype": "text/x-python",
   "name": "python",
   "nbconvert_exporter": "python",
   "pygments_lexer": "ipython3",
   "version": "3.4.3"
  }
 },
 "nbformat": 4,
 "nbformat_minor": 0
}
