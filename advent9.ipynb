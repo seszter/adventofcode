{
 "cells": [
  {
   "cell_type": "code",
   "execution_count": 1,
   "metadata": {
    "collapsed": true
   },
   "outputs": [],
   "source": [
    "with open('advent9.txt') as f:\n",
    "    content = f.readlines()\n",
    "content = [x.strip('\\n') for x in content]"
   ]
  },
  {
   "cell_type": "code",
   "execution_count": 2,
   "metadata": {
    "collapsed": true
   },
   "outputs": [],
   "source": [
    "d = {}\n",
    "for con in content:\n",
    "    c = con.split()\n",
    "    if c[0] not in d:\n",
    "        d[c[0]] = [[c[2], int(c[4])]]\n",
    "    else:\n",
    "        d[c[0]].append([c[2], int(c[4])])\n",
    "    if c[2] not in d:\n",
    "        d[c[2]] = [[c[0], int(c[4])]]\n",
    "    else:\n",
    "        d[c[2]].append([c[0], int(c[4])])\n",
    "        \n",
    "dist_list = []"
   ]
  },
  {
   "cell_type": "markdown",
   "metadata": {},
   "source": [
    "1st part"
   ]
  },
  {
   "cell_type": "code",
   "execution_count": 3,
   "metadata": {
    "collapsed": true
   },
   "outputs": [],
   "source": [
    "def shortest(d, key, dest_list):\n",
    "    possibles = [city for city in d[k] if city[0] not in dest_list]\n",
    "    sor = sorted(possibles, key = lambda x: int(x[1])) \n",
    "    return sor[0]\n"
   ]
  },
  {
   "cell_type": "code",
   "execution_count": 4,
   "metadata": {
    "collapsed": false
   },
   "outputs": [
    {
     "name": "stdout",
     "output_type": "stream",
     "text": [
      "[117, 117, 130, 193, 211, 212, 240, 240]\n"
     ]
    }
   ],
   "source": [
    "for k in d:\n",
    "    dist = 0\n",
    "    dest_list = [k]\n",
    "    while len(dest_list) < len(d):\n",
    "        short = shortest(d,k,dest_list)\n",
    "        dist += short[1]\n",
    "        k = short[0]\n",
    "        dest_list.append(short[0])\n",
    "    dist_list.append(dist)\n",
    "print (sorted(dist_list))"
   ]
  },
  {
   "cell_type": "markdown",
   "metadata": {},
   "source": [
    "2nd part"
   ]
  },
  {
   "cell_type": "code",
   "execution_count": 5,
   "metadata": {
    "collapsed": true
   },
   "outputs": [],
   "source": [
    "def longest(d, key, dest_list):\n",
    "    possibles = [city for city in d[k] if city[0] not in dest_list]\n",
    "    sor = sorted(possibles, key = lambda x: int(x[1])) \n",
    "    return sor[-1]"
   ]
  },
  {
   "cell_type": "code",
   "execution_count": 7,
   "metadata": {
    "collapsed": false
   },
   "outputs": [
    {
     "name": "stdout",
     "output_type": "stream",
     "text": [
      "[815, 818, 822, 833, 842, 863, 867, 909]\n"
     ]
    }
   ],
   "source": [
    "dist_list = []\n",
    "for k in d:\n",
    "    dist = 0\n",
    "    dest_list = [k]\n",
    "    while len(dest_list) < len(d):\n",
    "        short = longest(d,k,dest_list)\n",
    "        dist += short[1]\n",
    "        k = short[0]\n",
    "        dest_list.append(short[0])\n",
    "        #print (dest_list)\n",
    "    dist_list.append(dist)\n",
    "print (sorted(dist_list))"
   ]
  },
  {
   "cell_type": "code",
   "execution_count": null,
   "metadata": {
    "collapsed": true
   },
   "outputs": [],
   "source": []
  }
 ],
 "metadata": {
  "kernelspec": {
   "display_name": "Python 3",
   "language": "python",
   "name": "python3"
  },
  "language_info": {
   "codemirror_mode": {
    "name": "ipython",
    "version": 3
   },
   "file_extension": ".py",
   "mimetype": "text/x-python",
   "name": "python",
   "nbconvert_exporter": "python",
   "pygments_lexer": "ipython3",
   "version": "3.4.3"
  }
 },
 "nbformat": 4,
 "nbformat_minor": 0
}
