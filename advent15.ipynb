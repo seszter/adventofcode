{
 "cells": [
  {
   "cell_type": "code",
   "execution_count": 47,
   "metadata": {
    "collapsed": false
   },
   "outputs": [],
   "source": [
    "import numpy as np\n",
    "\n",
    "ingsnp = np.array([[2,0,-2,0],\n",
    "       [0,5,-3,0],\n",
    "       [0,0,5,-1],\n",
    "       [0,-1,0,5]])\n",
    "cals = np.matrix([3,3,8,8])"
   ]
  },
  {
   "cell_type": "code",
   "execution_count": 48,
   "metadata": {
    "collapsed": false
   },
   "outputs": [],
   "source": [
    "def f(n,s):\n",
    "    if n == 1:\n",
    "        yield (s,)\n",
    "    else:\n",
    "        for i in range(s + 1):\n",
    "            for j in f(n - 1,s - i):\n",
    "                yield (i,) + j\n",
    "\n"
   ]
  },
  {
   "cell_type": "code",
   "execution_count": 41,
   "metadata": {
    "collapsed": false
   },
   "outputs": [],
   "source": [
    "perms = f(4,100)\n",
    "maxx = 0\n",
    "for i in range(100000):\n",
    "    try:\n",
    "        a = np.matrix(next(perms)).T\n",
    "        b = np.array(a)*ingsnp \n",
    "        c = np.sum(b, axis = 0)\n",
    "        for i in range(len(c)):\n",
    "            if c[i] < 0:\n",
    "                c[i] = 0\n",
    "        result = c[0]*c[1]*c[2]*c[3]\n",
    "        if result > maxx:\n",
    "            maxx = result\n",
    "    except StopIteration:\n",
    "        print (maxx)\n",
    "        break\n",
    "\n",
    "   "
   ]
  },
  {
   "cell_type": "code",
   "execution_count": 46,
   "metadata": {
    "collapsed": false
   },
   "outputs": [
    {
     "name": "stdout",
     "output_type": "stream",
     "text": [
      "1766400\n"
     ]
    }
   ],
   "source": [
    "perms = f(4,100)\n",
    "maxx = 0\n",
    "for i in range(1000000):\n",
    "    try:\n",
    "        a = np.matrix(next(perms)).T\n",
    "        calb = np.multiply(a,cals.T)\n",
    "        calc = np.sum(calb, axis = 0)\n",
    "        if calc == 500:\n",
    "            b = np.array(a)*ingsnp \n",
    "            c = np.sum(b, axis = 0)\n",
    "            for i in range(len(c)):\n",
    "                if c[i] < 0:\n",
    "                    c[i] = 0\n",
    "            result = c[0]*c[1]*c[2]*c[3]\n",
    "            if result > maxx:\n",
    "                maxx = result\n",
    "    except StopIteration:\n",
    "        print (maxx)\n",
    "        break\n",
    "\n",
    "   "
   ]
  },
  {
   "cell_type": "code",
   "execution_count": 77,
   "metadata": {
    "collapsed": false
   },
   "outputs": [],
   "source": [
    "def ancsa(ingmatrix, actual_list):\n",
    "    results = []\n",
    "        \n",
    "    sprinkle_list = [actual_list[0]+1] + actual_list[1:]\n",
    "    #sprinkle = calculate(ingsnp, sprinkle_list)\n",
    "    #results.append(sprinkle)\n",
    "\n",
    "    butter_list = [actual_list[0]] + [actual_list[1]+1] + actual_list[2:]\n",
    "    #butter = calculate(ingsnp, butter_list)\n",
    "    #results.append(sprinkle)\n",
    "    \n",
    "    ch_list = actual_list[:2] + [actual_list[2]+1] + [actual_list[3]]\n",
    "    #ch = calculate(ingsnp, ch_list)\n",
    "    #results.append(sprinkle)\n",
    "    \n",
    "    candy_list = actual_list[:3] + [actual_list[3]+1]\n",
    "    #candy = calculate(ingsnp, candy_list)\n",
    "    #results.append(sprinkle)\n",
    "    \n",
    "    result = max([sprinkle_list, butter_list, ch_list, candy_list], key = calculate)\n",
    "    return  result\n",
    "\n",
    "    \n",
    "def calculate(actual_list):\n",
    "    global ingsnp\n",
    "    a = np.matrix(actual_list).T\n",
    "    b = np.array(a)*ingsnp   \n",
    "    c = np.sum(b, axis = 0)\n",
    "    for i in range(len(c)):\n",
    "        if c[i] < 0:\n",
    "            c[i] = 0\n",
    "    return c[0]*c[1]*c[2]*c[3]\n"
   ]
  },
  {
   "cell_type": "code",
   "execution_count": 75,
   "metadata": {
    "collapsed": false
   },
   "outputs": [
    {
     "data": {
      "text/plain": [
       "(2, [1, 0, 0, 100])"
      ]
     },
     "execution_count": 75,
     "metadata": {},
     "output_type": "execute_result"
    }
   ],
   "source": [
    "ancsa(ingsnp, 1, [0,0,0,100])"
   ]
  },
  {
   "cell_type": "code",
   "execution_count": 78,
   "metadata": {
    "collapsed": false
   },
   "outputs": [],
   "source": [
    "init = ancsa(ingsnp, [0,0,0,0])\n",
    "for i in range(99):\n",
    "    init = ancsa(ingsnp, init)"
   ]
  },
  {
   "cell_type": "code",
   "execution_count": 79,
   "metadata": {
    "collapsed": false
   },
   "outputs": [
    {
     "data": {
      "text/plain": [
       "[100, 0, 0, 0]"
      ]
     },
     "execution_count": 79,
     "metadata": {},
     "output_type": "execute_result"
    }
   ],
   "source": [
    "init"
   ]
  },
  {
   "cell_type": "code",
   "execution_count": 80,
   "metadata": {
    "collapsed": false
   },
   "outputs": [
    {
     "data": {
      "text/plain": [
       "0"
      ]
     },
     "execution_count": 80,
     "metadata": {},
     "output_type": "execute_result"
    }
   ],
   "source": [
    "calculate(init)"
   ]
  },
  {
   "cell_type": "code",
   "execution_count": null,
   "metadata": {
    "collapsed": true
   },
   "outputs": [],
   "source": []
  }
 ],
 "metadata": {
  "kernelspec": {
   "display_name": "Python 3",
   "language": "python",
   "name": "python3"
  },
  "language_info": {
   "codemirror_mode": {
    "name": "ipython",
    "version": 3
   },
   "file_extension": ".py",
   "mimetype": "text/x-python",
   "name": "python",
   "nbconvert_exporter": "python",
   "pygments_lexer": "ipython3",
   "version": "3.4.3"
  }
 },
 "nbformat": 4,
 "nbformat_minor": 0
}
