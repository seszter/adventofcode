{
 "cells": [
  {
   "cell_type": "code",
   "execution_count": 37,
   "metadata": {
    "collapsed": true
   },
   "outputs": [],
   "source": [
    "weapons = [[8,4,0],[10,5,0],[25,6,0],[40,7,0],[74,8,0]]\n",
    "armors = [[13,0,1],[31,0,2],[53,0,3],[75,0,4],[102,0,5],[0,0,0]]\n",
    "rings = [[25,1,0],[50,2,0],[100,3,0],[20,0,1],[40,0,2],[80,0,3],[0,0,0],[0,0,0]]"
   ]
  },
  {
   "cell_type": "code",
   "execution_count": 34,
   "metadata": {
    "collapsed": true
   },
   "outputs": [],
   "source": [
    "def fights(hitme, damageme, armorme, hitboss, damageboss, armorboss):\n",
    "    while True:\n",
    "        damage = damageme - armorboss\n",
    "        if damage >= 0:\n",
    "            hitboss -= damage\n",
    "        else:\n",
    "            hitboss -= 1\n",
    "        if hitboss <= 0:\n",
    "            return 'won'\n",
    "        damage = damageboss - armorme\n",
    "        if damage >= 0:\n",
    "            hitme -= damage\n",
    "        else:\n",
    "            hitme -= 1\n",
    "        if hitme <= 0:\n",
    "            return 'lost'"
   ]
  },
  {
   "cell_type": "code",
   "execution_count": 42,
   "metadata": {
    "collapsed": false
   },
   "outputs": [],
   "source": [
    "cost = 100000000\n",
    "for weapon in weapons:\n",
    "    for armor in armors:\n",
    "        for ring in rings:\n",
    "            ind = rings.index(ring)\n",
    "            for riing in [x for i,x in enumerate(rings) if i!=ind]:\n",
    "                result = fights(100, weapon[1] + ring[1] + riing[1], armor[2] + ring[2] + riing[2], 109, 8, 2)\n",
    "                if result == 'won':\n",
    "                    actualcost = weapon[0] + armor[0] + ring[0] + riing[0]\n",
    "                    if actualcost < cost:\n",
    "                        cost = actualcost"
   ]
  },
  {
   "cell_type": "code",
   "execution_count": 43,
   "metadata": {
    "collapsed": false
   },
   "outputs": [
    {
     "data": {
      "text/plain": [
       "111"
      ]
     },
     "execution_count": 43,
     "metadata": {},
     "output_type": "execute_result"
    }
   ],
   "source": [
    "cost"
   ]
  },
  {
   "cell_type": "code",
   "execution_count": 44,
   "metadata": {
    "collapsed": true
   },
   "outputs": [],
   "source": [
    "cost = 0\n",
    "for weapon in weapons:\n",
    "    for armor in armors:\n",
    "        for ring in rings:\n",
    "            ind = rings.index(ring)\n",
    "            for riing in [x for i,x in enumerate(rings) if i!=ind]:\n",
    "                result = fights(100, weapon[1] + ring[1] + riing[1], armor[2] + ring[2] + riing[2], 109, 8, 2)\n",
    "                if result == 'lost':\n",
    "                    actualcost = weapon[0] + armor[0] + ring[0] + riing[0]\n",
    "                    if actualcost > cost:\n",
    "                        cost = actualcost"
   ]
  },
  {
   "cell_type": "code",
   "execution_count": 45,
   "metadata": {
    "collapsed": false
   },
   "outputs": [
    {
     "data": {
      "text/plain": [
       "188"
      ]
     },
     "execution_count": 45,
     "metadata": {},
     "output_type": "execute_result"
    }
   ],
   "source": [
    "cost"
   ]
  },
  {
   "cell_type": "code",
   "execution_count": null,
   "metadata": {
    "collapsed": true
   },
   "outputs": [],
   "source": []
  }
 ],
 "metadata": {
  "kernelspec": {
   "display_name": "Python 3",
   "language": "python",
   "name": "python3"
  },
  "language_info": {
   "codemirror_mode": {
    "name": "ipython",
    "version": 3
   },
   "file_extension": ".py",
   "mimetype": "text/x-python",
   "name": "python",
   "nbconvert_exporter": "python",
   "pygments_lexer": "ipython3",
   "version": "3.4.3"
  }
 },
 "nbformat": 4,
 "nbformat_minor": 0
}
