{
 "cells": [
  {
   "cell_type": "code",
   "execution_count": 2,
   "metadata": {
    "collapsed": false
   },
   "outputs": [],
   "source": [
    "with open('advent5.txt') as f:\n",
    "    content = f.readlines()\n",
    "content = [x.strip('\\n') for x in content]"
   ]
  },
  {
   "cell_type": "markdown",
   "metadata": {},
   "source": [
    "1st part"
   ]
  },
  {
   "cell_type": "code",
   "execution_count": 3,
   "metadata": {
    "collapsed": false
   },
   "outputs": [
    {
     "name": "stdout",
     "output_type": "stream",
     "text": [
      "255\n"
     ]
    }
   ],
   "source": [
    "vowels = 'aeiou'\n",
    "naughty = ['ab', 'cd', 'pq', 'xy']\n",
    "nice = 0\n",
    "for con in content:\n",
    "    firstcond = 0\n",
    "    secondcond = 0\n",
    "    thirdcond = 0\n",
    "    for i in range(len(con)-1):\n",
    "        if con[i] in vowels:\n",
    "            firstcond += 1\n",
    "        if con[i] == con[i+1]:\n",
    "            secondcond += 1\n",
    "        if con[i] + con[i+1] in naughty:\n",
    "            thirdcond +=1\n",
    "    if con[-1] in vowels:\n",
    "        firstcond += 1\n",
    "    if firstcond > 2 and secondcond > 0 and thirdcond == 0:\n",
    "            nice += 1\n",
    "print (nice)"
   ]
  },
  {
   "cell_type": "markdown",
   "metadata": {},
   "source": [
    "2nd part"
   ]
  },
  {
   "cell_type": "code",
   "execution_count": 5,
   "metadata": {
    "collapsed": false
   },
   "outputs": [
    {
     "name": "stdout",
     "output_type": "stream",
     "text": [
      "55\n"
     ]
    }
   ],
   "source": [
    "nice = 0\n",
    "for con in content:\n",
    "    firstcond = False\n",
    "    secondcond = False\n",
    "    for i in range(len(con)-1):\n",
    "        if con[i] + con[i + 1] in con[:i] or con[i] + con[i + 1] in con[i + 2:]:\n",
    "            firstcond = True\n",
    "    for i in range(len(con)-2):\n",
    "        if con[i] == con[i + 2]:\n",
    "            secondcond = True\n",
    "    if firstcond and secondcond:\n",
    "        nice += 1\n",
    "print(nice)"
   ]
  },
  {
   "cell_type": "code",
   "execution_count": null,
   "metadata": {
    "collapsed": true
   },
   "outputs": [],
   "source": []
  }
 ],
 "metadata": {
  "kernelspec": {
   "display_name": "Python 3",
   "language": "python",
   "name": "python3"
  },
  "language_info": {
   "codemirror_mode": {
    "name": "ipython",
    "version": 3
   },
   "file_extension": ".py",
   "mimetype": "text/x-python",
   "name": "python",
   "nbconvert_exporter": "python",
   "pygments_lexer": "ipython3",
   "version": "3.4.3"
  }
 },
 "nbformat": 4,
 "nbformat_minor": 0
}
