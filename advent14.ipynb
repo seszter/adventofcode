{
 "cells": [
  {
   "cell_type": "code",
   "execution_count": 3,
   "metadata": {
    "collapsed": false
   },
   "outputs": [
    {
     "data": {
      "text/plain": [
       "'Dancer can fly 27 km/s for 5 seconds, but then must rest for 132 seconds.'"
      ]
     },
     "execution_count": 3,
     "metadata": {},
     "output_type": "execute_result"
    }
   ],
   "source": [
    "with open('advent14.txt') as f:\n",
    "    content = f.readlines()\n",
    "content = [x.split('\\n') for x in content]\n",
    "\n",
    "content = [c[0] for c in content]\n",
    "content[0]"
   ]
  },
  {
   "cell_type": "code",
   "execution_count": 5,
   "metadata": {
    "collapsed": false
   },
   "outputs": [
    {
     "data": {
      "text/plain": [
       "{'Blitzen': [14, 3, 38],\n",
       " 'Comet': [18, 6, 103],\n",
       " 'Cupid': [22, 2, 41],\n",
       " 'Dancer': [27, 5, 132],\n",
       " 'Dasher': [4, 16, 55],\n",
       " 'Donner': [28, 5, 134],\n",
       " 'Prancer': [3, 21, 40],\n",
       " 'Rudolph': [11, 5, 48],\n",
       " 'Vixen': [18, 5, 84]}"
      ]
     },
     "execution_count": 5,
     "metadata": {},
     "output_type": "execute_result"
    }
   ],
   "source": [
    "d = {}\n",
    "for con in content:\n",
    "    c = con.split()\n",
    "    d[c[0]] = [int(c[3]), int(c[6]),int(c[-2])]\n",
    "        \n",
    "d"
   ]
  },
  {
   "cell_type": "code",
   "execution_count": 21,
   "metadata": {
    "collapsed": false
   },
   "outputs": [
    {
     "data": {
      "text/plain": [
       "[2304, 2484, 2548, 2565, 2589, 2590, 2596, 2610, 2640]"
      ]
     },
     "execution_count": 21,
     "metadata": {},
     "output_type": "execute_result"
    }
   ],
   "source": [
    "results =[]\n",
    "for deer in d:\n",
    "    full = int(2503/(d[deer][1]+d[deer][2]))\n",
    "    remainder = 2503%(d[deer][1]+d[deer][2])\n",
    "    if remainder > d[deer][1]:\n",
    "        full += 1\n",
    "        result = full*d[deer][0]*d[deer][1]\n",
    "    else:\n",
    "        result = full*d[deer][0]*d[deer][1] + remainder*d[deer][0]\n",
    "    results.append(result)\n",
    "sorted(results)\n",
    "    "
   ]
  },
  {
   "cell_type": "code",
   "execution_count": 45,
   "metadata": {
    "collapsed": false
   },
   "outputs": [],
   "source": [
    "results = []\n",
    "deerspoint = {}\n",
    "deersdist = {}\n",
    "for deer in d:\n",
    "    deerspoint[deer] = 0\n",
    "    deersdist[deer] = 0"
   ]
  },
  {
   "cell_type": "code",
   "execution_count": 46,
   "metadata": {
    "collapsed": false
   },
   "outputs": [
    {
     "data": {
      "text/plain": [
       "{'Blitzen': 6,\n",
       " 'Comet': 213,\n",
       " 'Cupid': 46,\n",
       " 'Dancer': 164,\n",
       " 'Dasher': 0,\n",
       " 'Donner': 1102,\n",
       " 'Prancer': 176,\n",
       " 'Rudolph': 647,\n",
       " 'Vixen': 360}"
      ]
     },
     "execution_count": 46,
     "metadata": {},
     "output_type": "execute_result"
    }
   ],
   "source": [
    "for i in range(0,2503):\n",
    "    for deer in deersdist:\n",
    "        remainder = i%(d[deer][1]+d[deer][2])\n",
    "        if remainder < d[deer][1]:\n",
    "            deersdist[deer] += d[deer][0]\n",
    "    maxval = max(deersdist.values()) \n",
    "    winners = [k for k, v in deersdist.items() if v == maxval]\n",
    "   \n",
    "    for winner in winners:\n",
    "        deerspoint[winner] += 1\n",
    "deerspoint"
   ]
  },
  {
   "cell_type": "code",
   "execution_count": null,
   "metadata": {
    "collapsed": true
   },
   "outputs": [],
   "source": []
  }
 ],
 "metadata": {
  "kernelspec": {
   "display_name": "Python 3",
   "language": "python",
   "name": "python3"
  },
  "language_info": {
   "codemirror_mode": {
    "name": "ipython",
    "version": 3
   },
   "file_extension": ".py",
   "mimetype": "text/x-python",
   "name": "python",
   "nbconvert_exporter": "python",
   "pygments_lexer": "ipython3",
   "version": "3.4.3"
  }
 },
 "nbformat": 4,
 "nbformat_minor": 0
}
