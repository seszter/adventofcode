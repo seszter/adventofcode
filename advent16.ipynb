{
 "cells": [
  {
   "cell_type": "code",
   "execution_count": 2,
   "metadata": {
    "collapsed": false
   },
   "outputs": [
    {
     "data": {
      "text/plain": [
       "['Sue 1: goldfish: 6', ' trees: 9', ' akitas: 0']"
      ]
     },
     "execution_count": 2,
     "metadata": {},
     "output_type": "execute_result"
    }
   ],
   "source": [
    "with open('advent16.txt') as f:\n",
    "    content = f.readlines()\n",
    "content = [x.split('\\n') for x in content]\n",
    "\n",
    "content = [c[0] for c in content]\n",
    "content[0]"
   ]
  },
  {
   "cell_type": "code",
   "execution_count": 50,
   "metadata": {
    "collapsed": false
   },
   "outputs": [],
   "source": [
    "d = {'children':[],\n",
    "    'cats':[],\n",
    "    'samoyeds':[],\n",
    "    'pomeranians':[],\n",
    "    'akitas':[],\n",
    "    'vizslas':[],\n",
    "    'goldfish':[],\n",
    "    'trees':[],\n",
    "    'cars':[],\n",
    "    'perfumes':[]}\n",
    "\n",
    "clues = {'children':3,\n",
    "    'cats':7,\n",
    "    'samoyeds':2,\n",
    "    'pomeranians':3,\n",
    "    'akitas':0,\n",
    "    'vizslas':0,\n",
    "    'goldfish':5,\n",
    "    'trees':3,\n",
    "    'cars':2,\n",
    "    'perfumes':1}\n",
    "\n",
    "notsues = []"
   ]
  },
  {
   "cell_type": "code",
   "execution_count": 51,
   "metadata": {
    "collapsed": false
   },
   "outputs": [],
   "source": [
    "for i in range(len(content)):\n",
    "    for attrib in d:\n",
    "        if attrib in content[i]:\n",
    "            startindex = content[i].find(attrib)\n",
    "            value = content[i][startindex+len(attrib)+2]\n",
    "            if startindex+len(attrib)+3 < len(content[i]):\n",
    "                if content[i][startindex+len(attrib)+3].isdigit():\n",
    "                    value += content[i][startindex+len(attrib)+3]\n",
    "            whichsue = i+1\n",
    "            d[attrib].append([whichsue, int(value)])"
   ]
  },
  {
   "cell_type": "code",
   "execution_count": 52,
   "metadata": {
    "collapsed": false
   },
   "outputs": [
    {
     "data": {
      "text/plain": [
       "[0, 103]"
      ]
     },
     "execution_count": 52,
     "metadata": {},
     "output_type": "execute_result"
    }
   ],
   "source": [
    "for attrib in clues:\n",
    "    for sues in d[attrib]:\n",
    "        if sues[1] != clues[attrib]:\n",
    "            if sues[0] not in notsues:\n",
    "                notsues.append(sues[0])\n",
    "[num for num in range(500) if num not in notsues]"
   ]
  },
  {
   "cell_type": "code",
   "execution_count": 56,
   "metadata": {
    "collapsed": false
   },
   "outputs": [
    {
     "data": {
      "text/plain": [
       "[0, 405]"
      ]
     },
     "execution_count": 56,
     "metadata": {},
     "output_type": "execute_result"
    }
   ],
   "source": [
    "notsues = []\n",
    "\n",
    "for attrib in clues:\n",
    "    for sues in d[attrib]:\n",
    "        if attrib == 'cats' or attrib == 'trees':\n",
    "            if sues[1] <= clues[attrib]:\n",
    "                if sues[0] not in notsues:\n",
    "                    notsues.append(sues[0])\n",
    "        elif attrib == 'pomeranians' or attrib == 'goldfish':\n",
    "            if sues[1] >= clues[attrib]:\n",
    "                if sues[0] not in notsues:\n",
    "                    notsues.append(sues[0])\n",
    "        else:\n",
    "            if sues[1] != clues[attrib]:\n",
    "                if sues[0] not in notsues:\n",
    "                    notsues.append(sues[0])\n",
    "[num for num in range(500) if num not in notsues]"
   ]
  },
  {
   "cell_type": "code",
   "execution_count": null,
   "metadata": {
    "collapsed": true
   },
   "outputs": [],
   "source": []
  }
 ],
 "metadata": {
  "kernelspec": {
   "display_name": "Python 3",
   "language": "python",
   "name": "python3"
  },
  "language_info": {
   "codemirror_mode": {
    "name": "ipython",
    "version": 3
   },
   "file_extension": ".py",
   "mimetype": "text/x-python",
   "name": "python",
   "nbconvert_exporter": "python",
   "pygments_lexer": "ipython3",
   "version": "3.4.3"
  }
 },
 "nbformat": 4,
 "nbformat_minor": 0
}
