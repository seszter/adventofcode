{
 "cells": [
  {
   "cell_type": "code",
   "execution_count": 6,
   "metadata": {
    "collapsed": true
   },
   "outputs": [],
   "source": [
    "import numpy as np"
   ]
  },
  {
   "cell_type": "code",
   "execution_count": 4,
   "metadata": {
    "collapsed": false
   },
   "outputs": [],
   "source": [
    "with open('advent6.txt') as f:\n",
    "    content = f.readlines()\n",
    "content = [x.strip('\\n') for x in content]\n"
   ]
  },
  {
   "cell_type": "markdown",
   "metadata": {},
   "source": [
    "1st part"
   ]
  },
  {
   "cell_type": "code",
   "execution_count": 7,
   "metadata": {
    "collapsed": false
   },
   "outputs": [
    {
     "data": {
      "text/plain": [
       "377891.0"
      ]
     },
     "execution_count": 7,
     "metadata": {},
     "output_type": "execute_result"
    }
   ],
   "source": [
    "grid = np.zeros((1000,1000))\n",
    "\n",
    "for con in content:\n",
    "    if 'on' in con:\n",
    "        a= [x.strip(',') for x in con.split()]\n",
    "        upper = [int(s) for s in a[2].split(',') if s.isdigit()]\n",
    "        lower = [int(s) for s in a[4].split(',') if s.isdigit()]\n",
    "        grid[upper[0]:lower[0] + 1, upper[1]:lower[1] + 1] = 1\n",
    "    elif 'off' in con:\n",
    "        a= [x.strip(',') for x in con.split()]\n",
    "        upper = [int(s) for s in a[2].split(',') if s.isdigit()]\n",
    "        lower = [int(s) for s in a[4].split(',') if s.isdigit()]\n",
    "        grid[upper[0]:lower[0] + 1, upper[1]:lower[1] + 1] = 0\n",
    "    elif 'toggle' in con:\n",
    "        a= [x.strip(',') for x in con.split()]\n",
    "        upper = [int(s) for s in a[1].split(',') if s.isdigit()]\n",
    "        lower = [int(s) for s in a[3].split(',') if s.isdigit()]\n",
    "        changed = grid[upper[0]:lower[0] + 1, upper[1]:lower[1] + 1]\n",
    "        np.place(changed, changed == 1, 2)\n",
    "        np.place(changed, changed == 0, 1)\n",
    "        np.place(changed, changed == 2, 0)\n",
    "        grid[upper[0]:lower[0] + 1, upper[1]:lower[1] + 1] = changed\n",
    "np.sum(grid)"
   ]
  },
  {
   "cell_type": "markdown",
   "metadata": {},
   "source": [
    "2nd part"
   ]
  },
  {
   "cell_type": "code",
   "execution_count": 8,
   "metadata": {
    "collapsed": false
   },
   "outputs": [
    {
     "data": {
      "text/plain": [
       "14110788.0"
      ]
     },
     "execution_count": 8,
     "metadata": {},
     "output_type": "execute_result"
    }
   ],
   "source": [
    "grid = np.zeros((1000,1000))\n",
    "\n",
    "for con in content:\n",
    "    if 'on' in con:\n",
    "        a= [x.strip(',') for x in con.split()]\n",
    "        upper = [int(s) for s in a[2].split(',') if s.isdigit()]\n",
    "        lower = [int(s) for s in a[4].split(',') if s.isdigit()]\n",
    "        grid[upper[0]:lower[0] + 1, upper[1]:lower[1] + 1] += 1\n",
    "        #print (con, upper, lower)\n",
    "    elif 'off' in con:\n",
    "        a= [x.strip(',') for x in con.split()]\n",
    "        upper = [int(s) for s in a[2].split(',') if s.isdigit()]\n",
    "        lower = [int(s) for s in a[4].split(',') if s.isdigit()]\n",
    "        grid[upper[0]:lower[0] + 1, upper[1]:lower[1] + 1] -= 1\n",
    "        np.place(grid, grid == -1, 0)\n",
    "    elif 'toggle' in con:\n",
    "        a= [x.strip(',') for x in con.split()]\n",
    "        upper = [int(s) for s in a[1].split(',') if s.isdigit()]\n",
    "        lower = [int(s) for s in a[3].split(',') if s.isdigit()]\n",
    "        grid[upper[0]:lower[0] + 1, upper[1]:lower[1] + 1] += 2\n",
    "np.sum(grid)"
   ]
  },
  {
   "cell_type": "code",
   "execution_count": null,
   "metadata": {
    "collapsed": true
   },
   "outputs": [],
   "source": []
  }
 ],
 "metadata": {
  "kernelspec": {
   "display_name": "Python 3",
   "language": "python",
   "name": "python3"
  },
  "language_info": {
   "codemirror_mode": {
    "name": "ipython",
    "version": 3
   },
   "file_extension": ".py",
   "mimetype": "text/x-python",
   "name": "python",
   "nbconvert_exporter": "python",
   "pygments_lexer": "ipython3",
   "version": "3.4.3"
  }
 },
 "nbformat": 4,
 "nbformat_minor": 0
}
