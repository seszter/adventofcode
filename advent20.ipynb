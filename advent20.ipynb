{
 "cells": [
  {
   "cell_type": "code",
   "execution_count": 2,
   "metadata": {
    "collapsed": false
   },
   "outputs": [],
   "source": [
    "def factors(n):\n",
    "    return set(x for tup in ([i, n//i] \n",
    "                for i in range(1, int(n**0.5)+1) if n % i == 0) for x in tup)"
   ]
  },
  {
   "cell_type": "code",
   "execution_count": 3,
   "metadata": {
    "collapsed": false
   },
   "outputs": [
    {
     "name": "stdout",
     "output_type": "stream",
     "text": [
      "831600\n"
     ]
    }
   ],
   "source": [
    "n = 6\n",
    "while True:\n",
    "    presents = 0\n",
    "    presents = sum(factors(n))\n",
    "    if presents >= 3600000:\n",
    "        print (n)\n",
    "        break\n",
    "    n += 6"
   ]
  },
  {
   "cell_type": "code",
   "execution_count": 33,
   "metadata": {
    "collapsed": true
   },
   "outputs": [],
   "source": [
    "def factors_second(n):\n",
    "    return set(x for tup in ([i, n//i] \n",
    "                for i in range(1, int(n**0.5)+1) if n % i == 0) for x in tup if x*50 >= n)"
   ]
  },
  {
   "cell_type": "code",
   "execution_count": 34,
   "metadata": {
    "collapsed": false
   },
   "outputs": [
    {
     "name": "stdout",
     "output_type": "stream",
     "text": [
      "884520\n"
     ]
    }
   ],
   "source": [
    "n = 6\n",
    "while True:\n",
    "    presents = 0\n",
    "    presents = sum(factors_second(n))\n",
    "    if presents >= 3272727.272:\n",
    "        print (n)\n",
    "        break\n",
    "    n += 6"
   ]
  },
  {
   "cell_type": "raw",
   "metadata": {},
   "source": []
  },
  {
   "cell_type": "code",
   "execution_count": null,
   "metadata": {
    "collapsed": true
   },
   "outputs": [],
   "source": []
  }
 ],
 "metadata": {
  "kernelspec": {
   "display_name": "Python 3",
   "language": "python",
   "name": "python3"
  },
  "language_info": {
   "codemirror_mode": {
    "name": "ipython",
    "version": 3
   },
   "file_extension": ".py",
   "mimetype": "text/x-python",
   "name": "python",
   "nbconvert_exporter": "python",
   "pygments_lexer": "ipython3",
   "version": "3.4.3"
  }
 },
 "nbformat": 4,
 "nbformat_minor": 0
}
