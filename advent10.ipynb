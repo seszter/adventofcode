{
 "cells": [
  {
   "cell_type": "code",
   "execution_count": 4,
   "metadata": {
    "collapsed": true
   },
   "outputs": [],
   "source": [
    "def changenumber(a):\n",
    "    j = 0\n",
    "    replist = []\n",
    "    newnumber = ''\n",
    "    while j < len(a):\n",
    "        k = j\n",
    "        rep = 1\n",
    "        if k + 1 < len(a):\n",
    "            while a[k] == a[k+1]:\n",
    "                rep += 1\n",
    "                if k+2 < len(a):\n",
    "                    k += 1\n",
    "                else:\n",
    "                    break\n",
    "        replist.append([rep, a[k]])\n",
    "        j = j + rep\n",
    "        rep = 1\n",
    "    for r in replist:\n",
    "        newnumber = newnumber + str(r[0]) + r[1]\n",
    "    return newnumber\n"
   ]
  },
  {
   "cell_type": "code",
   "execution_count": 6,
   "metadata": {
    "collapsed": false
   },
   "outputs": [],
   "source": [
    "a = '1113222113'\n",
    "for i in range(40):\n",
    "    a = changenumber(a)\n"
   ]
  },
  {
   "cell_type": "code",
   "execution_count": 7,
   "metadata": {
    "collapsed": false
   },
   "outputs": [
    {
     "data": {
      "text/plain": [
       "252594"
      ]
     },
     "execution_count": 7,
     "metadata": {},
     "output_type": "execute_result"
    }
   ],
   "source": [
    "len(a)"
   ]
  },
  {
   "cell_type": "code",
   "execution_count": null,
   "metadata": {
    "collapsed": true
   },
   "outputs": [],
   "source": [
    "a = '1113222113'\n",
    "for i in range(50):\n",
    "    a = changenumber(a)\n",
    "len(a)"
   ]
  }
 ],
 "metadata": {
  "kernelspec": {
   "display_name": "Python 3",
   "language": "python",
   "name": "python3"
  },
  "language_info": {
   "codemirror_mode": {
    "name": "ipython",
    "version": 3
   },
   "file_extension": ".py",
   "mimetype": "text/x-python",
   "name": "python",
   "nbconvert_exporter": "python",
   "pygments_lexer": "ipython3",
   "version": "3.4.3"
  }
 },
 "nbformat": 4,
 "nbformat_minor": 0
}
